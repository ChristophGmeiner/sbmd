{
 "cells": [
  {
   "cell_type": "code",
   "execution_count": 2,
   "metadata": {},
   "outputs": [],
   "source": [
    "import schiene\n",
    "import datetime\n",
    "import json\n",
    "import configparser\n",
    "import os\n",
    "import boto3\n",
    "import pickle\n",
    "from pytictoc import TicToc\n",
    "import multiprocessing as mp"
   ]
  },
  {
   "cell_type": "code",
   "execution_count": 5,
   "metadata": {},
   "outputs": [],
   "source": [
    "def load_train(start, end, s = schiene.Schiene(), s3 = boto3.resource('s3'),\n",
    "              s3key_p=os.environ['AWS_ACCESS_KEY_ID'], s3skey_p=os.environ['AWS_SECRET_ACCESS_KEY']):\n",
    "    '''\n",
    "    loads connection details from a Schiene object\n",
    "    start: start of the DB train connection, has to be a string and match a \n",
    "           name of Schiene stations\n",
    "    end: end of the DB train connection, has to be a string and match a \n",
    "         name of Schiene stations\n",
    "    '''\n",
    "    \n",
    "    os.environ['AWS_ACCESS_KEY_ID'] = s3key_p\n",
    "    os.environ['AWS_SECRET_ACCESS_KEY'] = s3skey_p\n",
    "    \n",
    "    c = s.connections(start, end)\n",
    "    \n",
    "    for conn in c:\n",
    "    \n",
    "        if \"delay\" in conn.keys():\n",
    "    \n",
    "            conn[\"date\"] = str(datetime.date.today())\n",
    "            conn[\"_id\"] = (str(conn[\"date\"]) + \"_\" + conn[\"departure\"]\n",
    "                           + \"_\" + start + \"_\" + end)\n",
    "            conn[\"timestamp\"] = str(datetime.datetime.now())\n",
    "            conn[\"total_delay\"] = (conn[\"delay\"][\"delay_departure\"] \n",
    "                + conn[\"delay\"][\"delay_arrival\"])\n",
    "            conn[\"start\"] = start\n",
    "            conn[\"end\"] = end\n",
    "            \n",
    "            filename = \"DB_\" + conn[\"_id\"] + \".json\"\n",
    "            filename = filename.replace(\":\", \"_\")\n",
    "            filename = filename.replace(\" \", \"_\")\n",
    "            \n",
    "            s3object = s3.Object(\"sbmd1db2\", filename)\n",
    "            \n",
    "            s3object.put(Body=(bytes(json.dumps(conn)\\\n",
    "                                     .encode('utf-8'))))\n",
    "\n",
    "def load_trains_all(conns):\n",
    "    '''\n",
    "    runs all load_train queries for provided stations\n",
    "    conns: iterable containing 2 elements for start and end station\n",
    "    '''\n",
    "    \n",
    "    try:\n",
    "        load_train(conns[0], conns[1])\n",
    "    \n",
    "    except Exception as e:\n",
    "        print(\"Error at first round for \" + conns[0] + \"_\" + conns[1])\n",
    "        print(e)\n",
    "        \n",
    "    try:\n",
    "        load_train(conns[1], conns[0])\n",
    "    \n",
    "    except Exception as e:\n",
    "        print(\"Error at second round for \" + conns[0] + \"_\" + conns[1])\n",
    "        print(e)"
   ]
  },
  {
   "cell_type": "code",
   "execution_count": 6,
   "metadata": {},
   "outputs": [],
   "source": [
    "t = TicToc()\n",
    "\n",
    "t.tic()\n",
    "\n",
    "with open(\"station\", \"rb\") as f:\n",
    "    fileobj = pickle.load(f)\n",
    "\n",
    "statit = fileobj[1]\n",
    "\n",
    "credfile = \"dwh.cfg\"\n",
    "\n",
    "config = configparser.ConfigParser()\n",
    "config.read(credfile)\n",
    "\n",
    "os.environ['AWS_ACCESS_KEY_ID']=config['AWS']['KEY']\n",
    "os.environ['AWS_SECRET_ACCESS_KEY']=config['AWS']['SECRET']\n",
    "\n",
    "\n"
   ]
  },
  {
   "cell_type": "code",
   "execution_count": 8,
   "metadata": {},
   "outputs": [
    {
     "data": {
      "text/plain": [
       "<itertools.combinations at 0x10e9a2410>"
      ]
     },
     "execution_count": 8,
     "metadata": {},
     "output_type": "execute_result"
    }
   ],
   "source": [
    "statit"
   ]
  },
  {
   "cell_type": "code",
   "execution_count": 9,
   "metadata": {},
   "outputs": [
    {
     "data": {
      "text/plain": [
       "('München-Solln', 'München Karlsplatz')"
      ]
     },
     "execution_count": 9,
     "metadata": {},
     "output_type": "execute_result"
    }
   ],
   "source": [
    "next(statit)"
   ]
  },
  {
   "cell_type": "code",
   "execution_count": null,
   "metadata": {},
   "outputs": [],
   "source": [
    "pool = mp.Pool(mp.cpu_count())\n",
    "\n",
    "pool.map(load_trains_all, [co for co in statit])\n",
    "\n",
    "t.toc()"
   ]
  },
  {
   "cell_type": "code",
   "execution_count": null,
   "metadata": {},
   "outputs": [],
   "source": []
  },
  {
   "cell_type": "code",
   "execution_count": null,
   "metadata": {},
   "outputs": [],
   "source": []
  }
 ],
 "metadata": {
  "kernelspec": {
   "display_name": "Python 3",
   "language": "python",
   "name": "python3"
  },
  "language_info": {
   "codemirror_mode": {
    "name": "ipython",
    "version": 3
   },
   "file_extension": ".py",
   "mimetype": "text/x-python",
   "name": "python",
   "nbconvert_exporter": "python",
   "pygments_lexer": "ipython3",
   "version": "3.7.4"
  }
 },
 "nbformat": 4,
 "nbformat_minor": 4
}
