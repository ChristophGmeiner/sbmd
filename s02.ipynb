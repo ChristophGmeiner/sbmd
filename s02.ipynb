{
 "cells": [
  {
   "cell_type": "code",
   "execution_count": 5,
   "metadata": {},
   "outputs": [],
   "source": [
    "import schiene\n",
    "import itertools\n",
    "import pickle\n",
    "import pytictoc\n",
    "import multiprocessing as mp\n",
    "from itertools import chain"
   ]
  },
  {
   "cell_type": "code",
   "execution_count": 6,
   "metadata": {},
   "outputs": [],
   "source": [
    "def all_station(p, s_object=schiene.Schiene()):\n",
    "    '''\n",
    "    creates a list object containing all stations gathered from p\n",
    "    p: String input on which the schiene instance checks for station names\n",
    "       available\n",
    "    '''\n",
    "        \n",
    "    slist = s_object.stations(p, limit=30)\n",
    "    pre_list = []\n",
    "    for sl in slist:\n",
    "        if p in sl[\"value\"] :\n",
    "            pre_list.append(sl[\"value\"])\n",
    "    \n",
    "    pre_list = list(set(pre_list))\n",
    "    return(pre_list)   "
   ]
  },
  {
   "cell_type": "code",
   "execution_count": 7,
   "metadata": {},
   "outputs": [],
   "source": [
    "pool = mp.Pool(mp.cpu_count())\n",
    "\n",
    "t = pytictoc.TicToc()\n",
    "\n",
    "t.tic()"
   ]
  },
  {
   "cell_type": "code",
   "execution_count": 8,
   "metadata": {},
   "outputs": [
    {
     "name": "stdout",
     "output_type": "stream",
     "text": [
      "Elapsed time is 18.876246 seconds.\n",
      "None\n"
     ]
    }
   ],
   "source": [
    "potential_stations = [\"München\", \"Puchheim\", \"Germering\", \n",
    "                      \"Fürstenfeldbruck\", \"Olching\", \"Gröbenzell\", \n",
    "                      \"Wolfratshausen\", \"Starnberg\", \"Gernlinden\", \n",
    "                      \"Maisach\", \"Mammendorf\", \"Schöngeising\", \n",
    "                      \"Geltendorf\", \"Buchenau\", \"Eichenau\", \"Murnau\",\n",
    "                      \"Hackherbrücke\", \"Holzkirchen\", \"Ebersberg\", \n",
    "                      \"Grafing\",  \"Haar\",  \"Zorneding\", \"Freising\", \n",
    "                      \"Rosenheim\", \"Augsburg\", \"Miesbach\", \"Eichstätt\",\n",
    "                      \"Ingolstadt\", \"Donauwörth\", \"Unterhaching\", \n",
    "                      \"Geretsried\", \"Taufkirchen\", \"Erding\", \"Dachau\", \n",
    "                      \"Steinebach\", \"Tutzing\", \"Feldafing\", \n",
    "                      \"Mühldorf am Inn\", \"Deggendorf\", \"Landsberg\", \n",
    "                      \"Landshut\", \"Nürnberg\", \"Grafrath\", \"Gräfelfing\", \n",
    "                      \"Markt Schwaben\", \"Icking\", \"Kempten\", \"Planegg\", \n",
    "                      \"Stockdorf\", \"Possenhofen\", \"Gauting\", \"Gilching\", \n",
    "                      \"Türkenfeld\", \"Petershausen\", \"Röhrmoos\", \n",
    "                      \"Hallbergmoos\", \"Ismaning\", \"Bayrischzell\",\n",
    "                      \"Unterföhring\", \"Daglfing\", \"Unterschleißheim\",\n",
    "                      \"Heimstetten\", \"Tegernsee\", \"Lenggries\",\n",
    "                      \"Aying\", \"Vaterstetten\", \"Baldham\", \"Steinebach\",\n",
    "                      \"Weßling\", \"Deisenhofen\", \"Sauerlach\", \"Otterfing\", \n",
    "                      \"Kreuzstraße\", \"Ottobrunn\", \"Hohenbrunn\", \n",
    "                      \"Mittenwald\", \"Oberschleißheim\", \"Eching\", \n",
    "                      \"Neufahrn\", \"Altomünster\", \"Schwabhausen\", \n",
    "                      \"Kolbermoor\", \"Bad Aibling\", \"Wasserburg am Inn\", \n",
    "                      \"Waldkraiburg\", \"Schrobenhausen\",\n",
    "                      \"Garmisch-Partenkirchen\", \"Schliersee\", \"Gersthofen\"]\n",
    "\n",
    "\n",
    "real_stations = pool.map(all_station, [p for p in potential_stations])\n",
    "real_stations = list(chain(*real_stations))\n",
    "\n",
    "pool.close()\n",
    "\n",
    "real_stations = [x for x in real_stations if x]            \n",
    "real_stations = [x for x in real_stations if x.find(\",\") == -1]\n",
    "real_stations = [x for x in real_stations if x.find(\";\") == -1]\n",
    "real_stations = [x for x in real_stations if x.find(\"Berlin\") == -1]\n",
    "real_stations = [x for x in real_stations if x.find(\"Attnang\") == -1]\n",
    "real_stations = [x for x in real_stations if x.find(\"Konstanz\") == -1]\n",
    "real_stations = [x for x in real_stations if x.find(\"Kindsbach\") == -1]\n",
    "\n",
    "real_stations.remove(\"Taufkirchen an der Pram\")\n",
    "real_stations.remove(\"Steinebach an der Wied Ort\")\n",
    "real_stations.remove('Mittenwalde b Templin Dorf')\n",
    "real_stations.remove(\"Haarhausen\")\n",
    "\n",
    "stations_iter = itertools.combinations(real_stations, 2)\n",
    "\n",
    "fileobj = [real_stations, stations_iter]\n",
    "\n",
    "with open(\"station\", \"wb\") as sf:\n",
    "    pickle.dump(fileobj, sf)\n",
    "\n",
    "print(t.toc())"
   ]
  },
  {
   "cell_type": "code",
   "execution_count": null,
   "metadata": {},
   "outputs": [],
   "source": []
  }
 ],
 "metadata": {
  "kernelspec": {
   "display_name": "Python 3",
   "language": "python",
   "name": "python3"
  },
  "language_info": {
   "codemirror_mode": {
    "name": "ipython",
    "version": 3
   },
   "file_extension": ".py",
   "mimetype": "text/x-python",
   "name": "python",
   "nbconvert_exporter": "python",
   "pygments_lexer": "ipython3",
   "version": "3.7.4"
  }
 },
 "nbformat": 4,
 "nbformat_minor": 4
}
