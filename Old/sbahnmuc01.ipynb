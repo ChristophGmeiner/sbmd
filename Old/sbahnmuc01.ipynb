{
 "cells": [
  {
   "cell_type": "markdown",
   "metadata": {},
   "source": [
    "### Import modules\n",
    "\n",
    "For more information on the schiene package, please see here: https://github.com/kennell/schiene/blob/master/README.md\n",
    "\n",
    "And thanks to the developers fot this great and very helpful package."
   ]
  },
  {
   "cell_type": "code",
   "execution_count": 1,
   "metadata": {},
   "outputs": [],
   "source": [
    "from pymongo import MongoClient\n",
    "import schiene\n",
    "import datetime"
   ]
  },
  {
   "cell_type": "markdown",
   "metadata": {},
   "source": [
    "### Connect to local MongoDB instance\n",
    "I have created to collections. One for the trains from home to destination and one for the other direction"
   ]
  },
  {
   "cell_type": "code",
   "execution_count": 2,
   "metadata": {},
   "outputs": [],
   "source": [
    "client = MongoClient(\"localhost\", 27017)\n",
    "db = client[\"sbahnmuc\"]\n",
    "tocoll = \"to\"\n",
    "db_tocoll = db[tocoll]\n",
    "\n",
    "fromcoll = \"from\"\n",
    "db_fromcoll = db[fromcoll]"
   ]
  },
  {
   "cell_type": "code",
   "execution_count": null,
   "metadata": {},
   "outputs": [],
   "source": [
    "#create index on day - only after creating the collections\n",
    "#db_tocoll.create_index(\"date\")\n",
    "#db_fromcoll.create_index(\"date\")"
   ]
  },
  {
   "cell_type": "markdown",
   "metadata": {},
   "source": [
    "### Define home and destination"
   ]
  },
  {
   "cell_type": "code",
   "execution_count": 8,
   "metadata": {},
   "outputs": [],
   "source": [
    "home = 'Puchheim Bahnhof Nordseite'\n",
    "dest = 'München Trudering'"
   ]
  },
  {
   "cell_type": "markdown",
   "metadata": {},
   "source": [
    "### Initiate schiene object and get current connections towards dest and towards home"
   ]
  },
  {
   "cell_type": "code",
   "execution_count": 36,
   "metadata": {},
   "outputs": [],
   "source": [
    "s = schiene.Schiene()\n",
    "toconnlist = s.connections(home, dest)\n",
    "fromconnlist = s.connections(dest, home)"
   ]
  },
  {
   "cell_type": "markdown",
   "metadata": {},
   "source": [
    "These 2 lists contain dictionaries per current connection. Only the ones whcih contain a subdict named \"delay\" is interesting here. So in the loops below only the interesting ones are filtered out. Also some more information is added or deleted."
   ]
  },
  {
   "cell_type": "code",
   "execution_count": 37,
   "metadata": {},
   "outputs": [
    {
     "data": {
      "text/plain": [
       "[{'details': 'http://mobile.bahn.de/bin/mobil/query.exe/dox?ld=42243&n=1&i=li.027737243.1575895896&rt=1&use_realtime_filter=1&co=C0-0&vca&HWAI=CONNECTION$C0-0!details=opened!detailsVerbund=opened!&&newVerbundtarif=yes&verbund=MVV&outConId=C0-0&tplVarsDBStyle=yes&',\n",
       "  'departure': '13:18',\n",
       "  'arrival': '14:00',\n",
       "  'transfers': 1,\n",
       "  'time': '0:42',\n",
       "  'products': ['S', 'U'],\n",
       "  'price': None,\n",
       "  'ontime': True,\n",
       "  'canceled': False},\n",
       " {'details': 'http://mobile.bahn.de/bin/mobil/query.exe/dox?ld=42243&n=1&i=li.027737243.1575895896&rt=1&use_realtime_filter=1&co=C0-1&vca&HWAI=CONNECTION$C0-1!details=opened!detailsVerbund=opened!&&newVerbundtarif=yes&verbund=MVV&outConId=C0-1&tplVarsDBStyle=yes&',\n",
       "  'departure': '13:18',\n",
       "  'arrival': '14:05',\n",
       "  'transfers': 1,\n",
       "  'time': '0:47',\n",
       "  'products': ['S', 'U'],\n",
       "  'price': None,\n",
       "  'ontime': True,\n",
       "  'canceled': False},\n",
       " {'details': 'http://mobile.bahn.de/bin/mobil/query.exe/dox?ld=42243&n=1&i=li.027737243.1575895896&rt=1&use_realtime_filter=1&co=C0-2&vca&HWAI=CONNECTION$C0-2!details=opened!detailsVerbund=opened!&&newVerbundtarif=yes&verbund=MVV&outConId=C0-2&tplVarsDBStyle=yes&',\n",
       "  'departure': '13:38',\n",
       "  'arrival': '14:14',\n",
       "  'transfers': 0,\n",
       "  'time': '0:36',\n",
       "  'products': ['S'],\n",
       "  'price': None,\n",
       "  'ontime': True,\n",
       "  'canceled': False},\n",
       " {'details': 'http://mobile.bahn.de/bin/mobil/query.exe/dox?ld=42243&n=1&i=li.027737243.1575895896&rt=1&use_realtime_filter=1&co=C0-3&vca&HWAI=CONNECTION$C0-3!details=opened!detailsVerbund=opened!&&newVerbundtarif=yes&verbund=MVV&outConId=C0-3&tplVarsDBStyle=yes&',\n",
       "  'departure': '13:58',\n",
       "  'arrival': '14:34',\n",
       "  'transfers': 0,\n",
       "  'time': '0:36',\n",
       "  'products': ['S'],\n",
       "  'price': None,\n",
       "  'ontime': True,\n",
       "  'delay': {'delay_departure': 0, 'delay_arrival': 0},\n",
       "  'canceled': False}]"
      ]
     },
     "execution_count": 37,
     "metadata": {},
     "output_type": "execute_result"
    }
   ],
   "source": [
    "toconnlist"
   ]
  },
  {
   "cell_type": "code",
   "execution_count": 12,
   "metadata": {},
   "outputs": [
    {
     "name": "stderr",
     "output_type": "stream",
     "text": [
      "/usr/local/lib/python3.6/dist-packages/ipykernel_launcher.py:12: DeprecationWarning: remove is deprecated. Use delete_one or delete_many instead.\n",
      "  if sys.path[0] == '':\n"
     ]
    }
   ],
   "source": [
    "for conn in toconnlist:\n",
    "    if\"delay\" in conn.keys():\n",
    "        \n",
    "        del conn[\"details\"]\n",
    "        del conn[\"transfers\"]\n",
    "        del conn[\"price\"]\n",
    "        conn[\"date\"] = str(datetime.date.today())\n",
    "        conn[\"_id\"] = str(conn[\"date\"]) + \"_\" + conn[\"departure\"]\n",
    "        conn[\"timestamp\"] = str(datetime.datetime.now())\n",
    "        conn[\"total_delay\"] = conn[\"delay\"][\"delay_departure\"] + conn[\"delay\"][\"delay_arrival\"]\n",
    "                \n",
    "        db_tocoll.remove({\"_id\": conn[\"_id\"]})\n",
    "        \n",
    "        db_tocoll.insert_one(conn)"
   ]
  },
  {
   "cell_type": "code",
   "execution_count": 13,
   "metadata": {},
   "outputs": [
    {
     "name": "stderr",
     "output_type": "stream",
     "text": [
      "/usr/local/lib/python3.6/dist-packages/ipykernel_launcher.py:12: DeprecationWarning: remove is deprecated. Use delete_one or delete_many instead.\n",
      "  if sys.path[0] == '':\n"
     ]
    }
   ],
   "source": [
    "for conn in fromconnlist:\n",
    "    if\"delay\" in conn.keys():\n",
    "        \n",
    "        del conn[\"details\"]\n",
    "        del conn[\"transfers\"]\n",
    "        del conn[\"price\"]\n",
    "        conn[\"date\"] = str(datetime.date.today())\n",
    "        conn[\"_id\"] = str(conn[\"date\"]) + \"_\" + conn[\"departure\"]\n",
    "        conn[\"timestamp\"] = str(datetime.datetime.now())\n",
    "        conn[\"total_delay\"] = conn[\"delay\"][\"delay_departure\"] + conn[\"delay\"][\"delay_arrival\"]\n",
    "               \n",
    "        db_fromcoll.remove({\"_id\": conn[\"_id\"]})\n",
    "        \n",
    "        db_fromcoll.insert_one(conn)"
   ]
  },
  {
   "cell_type": "markdown",
   "metadata": {},
   "source": [
    "### Check out the results in MongoDB\n",
    "It seems that the first to train has 3 minutes delay.\n",
    "All others are currently fine."
   ]
  },
  {
   "cell_type": "code",
   "execution_count": 40,
   "metadata": {},
   "outputs": [
    {
     "name": "stdout",
     "output_type": "stream",
     "text": [
      "{'_id': '2019-12-09_13:18', 'departure': '13:18', 'arrival': '14:04', 'time': '0:43', 'products': ['S'], 'ontime': False, 'delay': {'delay_departure': 3, 'delay_arrival': 0}, 'canceled': False, 'date': '2019-12-09', 'timestamp': '2019-12-09 13:21:27.668641', 'total_delay': 3}\n",
      "{'_id': '2019-12-09_13:38', 'departure': '13:38', 'arrival': '14:14', 'time': '0:36', 'products': ['S'], 'ontime': True, 'delay': {'delay_departure': 0, 'delay_arrival': 0}, 'canceled': False, 'date': '2019-12-09', 'timestamp': '2019-12-09 13:21:27.669638', 'total_delay': 0}\n"
     ]
    }
   ],
   "source": [
    "r = db_tocoll.find()\n",
    "for l in r:\n",
    "    print(l)"
   ]
  },
  {
   "cell_type": "code",
   "execution_count": 41,
   "metadata": {},
   "outputs": [
    {
     "name": "stdout",
     "output_type": "stream",
     "text": [
      "{'_id': '2019-12-09_13:43', 'departure': '13:43', 'arrival': '14:21', 'time': '0:38', 'products': ['S'], 'ontime': True, 'delay': {'delay_departure': 0, 'delay_arrival': 0}, 'canceled': False, 'date': '2019-12-09', 'timestamp': '2019-12-09 13:21:30.515328', 'total_delay': 0}\n"
     ]
    }
   ],
   "source": [
    "r2 = db_fromcoll.find()\n",
    "for l in r2:\n",
    "    print(l)"
   ]
  },
  {
   "cell_type": "code",
   "execution_count": null,
   "metadata": {},
   "outputs": [],
   "source": []
  }
 ],
 "metadata": {
  "kernelspec": {
   "display_name": "Python 3",
   "language": "python",
   "name": "python3"
  },
  "language_info": {
   "codemirror_mode": {
    "name": "ipython",
    "version": 3
   },
   "file_extension": ".py",
   "mimetype": "text/x-python",
   "name": "python",
   "nbconvert_exporter": "python",
   "pygments_lexer": "ipython3",
   "version": "3.6.9"
  }
 },
 "nbformat": 4,
 "nbformat_minor": 2
}
